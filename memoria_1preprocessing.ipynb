{
 "cells": [
  {
   "cell_type": "markdown",
   "source": [
    "# Descarga, lectura y escritura de archivos grb2 provenientes de los trabajos del centro de modelamiento ambiental del NOAA.\n",
    "\n",
    "En este punto se usará el paquete wget, el cual es un paquete desarrollado en la función wget usada linux. Para esto se necesita:\n",
    "1. Importar funcion descargasarchivos_multi1, conversiongrib2toCSVNOAA y EscrituraSwanFile.\n",
    "2. Ejecutar los codigos para el rango temporal de 2009 a 2018, rango usado en la tesis.\n",
    "3. Obtener archivos de batimetria para modelación."
   ],
   "metadata": {
    "id": "bL8VIwULkkS3"
   }
  },
  {
   "cell_type": "code",
   "execution_count": 1,
   "source": [
    "# Descarga de archivo provenientes del NOAA\r\n",
    "import sys\r\n",
    "sys.path.insert(0, 'Script')\r\n",
    "\r\n",
    "import numpy as np\r\n",
    "from S001_preprocessingNOAA import descargasarchivos_multi1, conversiongrib2toCSVNOAA\r\n",
    "from S002_writting import EscrituraSwanFile\r\n",
    "\r\n",
    "# Descargar archivos provenientes del NOAA\r\n",
    "min_year         = 2009\r\n",
    "max_year         = 2018\r\n",
    "path_folder_swn  = \"Output/swn_NOAA\"\r\n",
    "path_folder_csv  = \"Output/csv_NOAA\"\r\n",
    "path_folder_NOAA = \"Data/grib_NOAA\"\r\n",
    "for var in ['dp','hs','tp']:\r\n",
    "    descargasarchivos_multi1(path_folder_NOAA, var, min_year, max_year)"
   ],
   "outputs": [
    {
     "output_type": "stream",
     "name": "stdout",
     "text": [
      "termino variable: dp\n",
      "termino variable: hs\n",
      "termino variable: tp\n"
     ]
    }
   ],
   "metadata": {
    "id": "plUY0RmxqU8o"
   }
  },
  {
   "cell_type": "code",
   "execution_count": null,
   "source": [
    "#Extracción de información de cada nodo y escritura en archivo CSV.\r\n",
    "df_NOAA = conversiongrib2toCSVNOAA(path_folder_NOAA, path_folder_csv, [-32.50, -72.50, -33.50, -71.40], min_year, max_year)"
   ],
   "outputs": [],
   "metadata": {}
  },
  {
   "cell_type": "code",
   "execution_count": null,
   "source": [
    "# Parámetros para Escritura de archivos .swn\r\n",
    "nodos = {\r\n",
    "    \"nodo1\": [-71.50, -32.50, -72.00, -32.50],\r\n",
    "    \"nodo2\": [-72.00, -32.50, -72.50, -32.50],\r\n",
    "    \"nodo3\": [-72.50, -32.50, -72.50, -33.00],\r\n",
    "    \"nodo4\": [-72.50, -33.00, -72.50, -33.50],\r\n",
    "    \"nodo5\": [-72.50, -33.50, -72.00, -33.50],\r\n",
    "    \"nodo6\": [-72.00, -33.50, -71.40, -33.50]\r\n",
    "    }\r\n",
    "\r\n",
    "parameters='DEPTH DIR HSIGN TPS &\\nTM02 TMM10 HSWELL WLEN STEEPNESS BFI QP TRANSP FORCE TDIR'"
   ],
   "outputs": [],
   "metadata": {}
  },
  {
   "cell_type": "code",
   "execution_count": null,
   "source": [
    "# Escritura de archivos .swn, primero propagación (primer día)\r\n",
    "sub_df_NOAA = df_NOAA.loc[df_NOAA.time<\"2009-02-01\"]\r\n",
    "nombre_variables_NOAA = [\"swh\",\"perpw\",\"dirpw\"]\r\n",
    "\r\n",
    "EscrituraSwanFile(\r\n",
    "    sub_df_NOAA,  path_folder_swn, \"P1-NOAA\", nodos, parameters, nombre_variables_NOAA,\r\n",
    "    area                = [-32.50, -72.50, -33.50, -71.40],                     # [N, W, S, E]\r\n",
    "    sub_area            = [[-33.25, -72.00, -32.75, -71.40]],                   # [N, W, S, E]\r\n",
    "    frequency           = [0.02, 1],                                            # flow, fhigh\r\n",
    "    resolution_grid     = 60, \r\n",
    "    alpc                = 0.00, \r\n",
    "    mdc                 = 180, \r\n",
    "    bathymetry          = [-72.50625, -33.50625, 0.0, 291, 241, 15],            # xpinp, ypinp, alpinp, mxinp, myinp, dxyinp\r\n",
    "    names_bath          = [-1, \"bat_final3.bot\", 3, 0],                         # fac, name, idla, nhedf\r\n",
    "    numeric             = [0.005, 0.01, 0.005, 99.00, 100, 0.01],               # dabs, drel, curvat, npnts, mxitst, alfa\r\n",
    "    resolution_subgrid  = 30,\r\n",
    "    alpn                = 0.00,\r\n",
    "    )"
   ],
   "outputs": [],
   "metadata": {}
  },
  {
   "cell_type": "code",
   "execution_count": null,
   "source": [
    "# Escritura de archivos .swn, segunda propagación (primer día)\r\n",
    "EscrituraSwanFile(\r\n",
    "    sub_df_NOAA,  path_folder_swn, \"P2-1-NOAA\", nodos, parameters, nombre_variables_NOAA,\r\n",
    "    area                = [-33.25, -72.00, -32.75, -71.40],                     # [N, W, S, E]\r\n",
    "    sub_area            = [],                                                   # [N, W, S, E]\r\n",
    "    frequency           = [0.02, 1],                                            # flow, fhigh\r\n",
    "    resolution_grid     = 30, \r\n",
    "    alpc                = 0.00, \r\n",
    "    mdc                 = 180, \r\n",
    "    bathymetry          = [-72.00625, -33.25625, 0.0, 145, 121, 15],            # xpinp, ypinp, alpinp, mxinp, myinp, dxyinp\r\n",
    "    names_bath          = [-1, \"bat_final4.bot\", 3, 0],                         # fac, name, idla, nhedf\r\n",
    "    numeric             = [0.005, 0.01, 0.005, 99.50, 50, 0.01],                # dabs, drel, curvat, npnts, mxitst, alfa\r\n",
    "    resolution_subgrid  = 15,\r\n",
    "    alpn                = 0.00,\r\n",
    "    )"
   ],
   "outputs": [],
   "metadata": {}
  },
  {
   "cell_type": "code",
   "execution_count": null,
   "source": [
    "# Lectura de archivo de batimetria proveniente de GEBCO\r\n",
    "import xarray as xr\r\n",
    "from astropy.io import ascii\r\n",
    "\r\n",
    "ds = xr.open_dataset(\"Data/Batimetria_GEBCO/gebco_2019_n-31.9937_s-35.00625_w-73.00625_e-71.2937.nc\")"
   ],
   "outputs": [],
   "metadata": {}
  },
  {
   "cell_type": "code",
   "execution_count": null,
   "source": [
    "# \"bat_final3.bot\"\r\n",
    "xpinp, ypinp, alpinp, mxinp, myinp, dxyinp = [-72.50625, -33.50625, 0.0, 291, 241, 15]\r\n",
    "\r\n",
    "bat_final3 = ds.where(ds.lon >= xpinp, drop=True)\\\r\n",
    "    .where(ds.lat >= ypinp, drop=True)\\\r\n",
    "        .where(ds.lon <= xpinp + (mxinp+0.5)*(dxyinp/3600), drop=True)\\\r\n",
    "            .where(ds.lat <= ypinp + (myinp-0.5)*(dxyinp/3600), drop=True)\r\n",
    "ascii.write(bat_final3.elevation.values, \"Output/batimetria/bat_final3.bot\",format='no_header',overwrite=True)"
   ],
   "outputs": [],
   "metadata": {}
  },
  {
   "cell_type": "code",
   "execution_count": null,
   "source": [
    "# \"bat_final4.bot\"\r\n",
    "xpinp, ypinp, alpinp, mxinp, myinp, dxyinp = [-72.00625, -33.25625, 0.0, 145, 121, 15]\r\n",
    "\r\n",
    "bat_final4 = ds.where(ds.lon >= xpinp, drop=True)\\\r\n",
    "    .where(ds.lat >= ypinp, drop=True)\\\r\n",
    "        .where(ds.lon <= xpinp + (mxinp+0.5)*(dxyinp/3600), drop=True)\\\r\n",
    "            .where(ds.lat <= ypinp + (myinp-0.5)*(dxyinp/3600), drop=True)\r\n",
    "ascii.write(bat_final4.elevation.values, \"Output/batimetria/bat_final4.bot\",format='no_header',overwrite=True)"
   ],
   "outputs": [],
   "metadata": {}
  },
  {
   "cell_type": "markdown",
   "source": [
    "# [Opcion2] Usar datos del proyecto Copernicus.\n",
    "\n",
    "En este punto se usará el paquete wget, el cual es un paquete desarrollado en la función wget usada linux. Para esto se necesita:\n",
    "1.   Importar funcion descargas_era5copernicus"
   ],
   "metadata": {}
  },
  {
   "cell_type": "code",
   "execution_count": null,
   "source": [
    "# Descargar archivos provenientes de Copernicus\r\n",
    "import sys\r\n",
    "sys.path.insert(0, 'Script')\r\n",
    "\r\n",
    "import numpy as np\r\n",
    "from S001_preprocessingCopernicus import descargas_era5copernicus, conversiongrib2toCSVCopernicus\r\n",
    "\r\n",
    "min_year                = 2009\r\n",
    "max_year                = 2018\r\n",
    "path_folder_swn         = \"Output/swn_Copernicus\"\r\n",
    "path_folder_csv         = \"Output/csv_Copernicus\"\r\n",
    "path_folder_copernicus  = \"Data/grib_Copernicus\"\r\n",
    "years                   = np.arange(min_year, max_year + 1, 1, dtype=int)\r\n",
    "variables               = ['mean_wave_direction', 'model_bathymetry', 'peak_wave_period', 'significant_height_of_total_swell',]\r\n",
    "area                    = [-32.50, -72.50, -33.50, -71.40]\r\n",
    "\r\n",
    "for year in years:\r\n",
    "    descargas_era5copernicus(path_folder_copernicus, year, variables, area)"
   ],
   "outputs": [],
   "metadata": {}
  },
  {
   "cell_type": "code",
   "execution_count": null,
   "source": [
    "# conversion a csv\r\n",
    "df_Copernicus = conversiongrib2toCSVCopernicus(path_folder_copernicus, path_folder_csv, min_year, max_year)"
   ],
   "outputs": [],
   "metadata": {}
  },
  {
   "cell_type": "code",
   "execution_count": null,
   "source": [
    "# Parámetros para Escritura de archivos .swn\r\n",
    "nodos = {\r\n",
    "    \"nodo1\": [-71.50, -32.50, -72.00, -32.50],\r\n",
    "    \"nodo2\": [-72.00, -32.50, -72.50, -32.50],\r\n",
    "    \"nodo3\": [-72.50, -32.50, -72.50, -33.00],\r\n",
    "    \"nodo4\": [-72.50, -33.00, -72.50, -33.50],\r\n",
    "    \"nodo5\": [-72.50, -33.50, -72.00, -33.50],\r\n",
    "    \"nodo6\": [-72.00, -33.50, -71.40, -33.50]\r\n",
    "    }\r\n",
    "\r\n",
    "parameters='DEPTH DIR HSIGN TPS &\\nTM02 TMM10 HSWELL WLEN STEEPNESS BFI QP TRANSP FORCE TDIR'"
   ],
   "outputs": [],
   "metadata": {}
  },
  {
   "cell_type": "code",
   "execution_count": null,
   "source": [
    "# Escritura de archivos .swn, primero propagación (primer día)\r\n",
    "sub_df_Copernicus = df_Copernicus.loc[df_Copernicus.time<\"2009-02-01\"]\r\n",
    "nombre_variables_Copernicus = [\"shts\",\"pp1d\",\"mwd\"]\r\n",
    "\r\n",
    "EscrituraSwanFile(\r\n",
    "    sub_df_Copernicus,  path_folder_swn, \"P1-ERA5\", nodos, parameters, nombre_variables_Copernicus,\r\n",
    "    area                = [-32.50, -72.50, -33.50, -71.40],                     # [N, W, S, E]\r\n",
    "    sub_area            = [[-33.25, -72.00, -32.75, -71.40]],                   # [N, W, S, E]\r\n",
    "    frequency           = [0.02, 1],                                            # flow, fhigh\r\n",
    "    resolution_grid     = 60, \r\n",
    "    alpc                = 0.00, \r\n",
    "    mdc                 = 180, \r\n",
    "    bathymetry          = [-72.50625, -33.50625, 0.0, 291, 241, 15],            # xpinp, ypinp, alpinp, mxinp, myinp, dxyinp\r\n",
    "    names_bath          = [-1, \"bat_final3.bot\", 3, 0],                         # fac, name, idla, nhedf\r\n",
    "    numeric             = [0.005, 0.01, 0.005, 99.00, 100, 0.01],               # dabs, drel, curvat, npnts, mxitst, alfa\r\n",
    "    resolution_subgrid  = 30,\r\n",
    "    alpn                = 0.00,\r\n",
    "    )"
   ],
   "outputs": [],
   "metadata": {}
  },
  {
   "cell_type": "code",
   "execution_count": null,
   "source": [
    "# Escritura de archivos .swn, segunda propagación (primer día)\r\n",
    "EscrituraSwanFile(\r\n",
    "    sub_df_Copernicus,  path_folder_swn, \"P2-1-ERA5\", nodos, parameters, nombre_variables_Copernicus,\r\n",
    "    area                = [-33.25, -72.00, -32.75, -71.40],                     # [N, W, S, E]\r\n",
    "    sub_area            = [],                                                   # [N, W, S, E]\r\n",
    "    frequency           = [0.02, 1],                                            # flow, fhigh\r\n",
    "    resolution_grid     = 30, \r\n",
    "    alpc                = 0.00, \r\n",
    "    mdc                 = 180, \r\n",
    "    bathymetry          = [-72.00625, -33.25625, 0.0, 145, 121, 15],            # xpinp, ypinp, alpinp, mxinp, myinp, dxyinp\r\n",
    "    names_bath          = [-1, \"bat_final4.bot\", 3, 0],                         # fac, name, idla, nhedf\r\n",
    "    numeric             = [0.005, 0.01, 0.005, 99.50, 50, 0.01],                # dabs, drel, curvat, npnts, mxitst, alfa\r\n",
    "    resolution_subgrid  = 15,\r\n",
    "    alpn                = 0.00,\r\n",
    "    )"
   ],
   "outputs": [],
   "metadata": {}
  },
  {
   "cell_type": "markdown",
   "source": [
    "# Comparación datos"
   ],
   "metadata": {}
  },
  {
   "cell_type": "code",
   "execution_count": null,
   "source": [
    "df_merge = df_NOAA.merge(df_Copernicus, on=[\"latitude\", \"longitude\",\"time\"], suffixes=(\"_NOAA\",\"_Copernicus\")).dropna()\r\n",
    "df_merge.head()"
   ],
   "outputs": [],
   "metadata": {}
  },
  {
   "cell_type": "code",
   "execution_count": null,
   "source": [
    "print(df_merge.latitude.unique())\r\n",
    "print(df_merge.longitude.unique())\r\n",
    "\r\n",
    "import itertools\r\n",
    "latlon = [[x, y] for x, y in itertools.product(df_merge.longitude.unique(), df_merge.latitude.unique())]"
   ],
   "outputs": [],
   "metadata": {}
  },
  {
   "cell_type": "code",
   "execution_count": null,
   "source": [
    "import matplotlib.pyplot as plt\r\n",
    "\r\n",
    "_, axes = plt.subplots(ncols=3, nrows=7, figsize=(20,30))\r\n",
    "n, n_latlon = 0, 0\r\n",
    "for ax in axes.flatten():\r\n",
    "    if n%3==2:\r\n",
    "        diff_direccion = df_merge.loc[(df_merge.longitude==x)&(df_merge.latitude==y), nombre_variables_NOAA[-1]] \\\r\n",
    "            - df_merge.loc[(df_merge.longitude==x)&(df_merge.latitude==y), nombre_variables_Copernicus[-1]]\r\n",
    "        ax.plot(df_merge.loc[(df_merge.longitude==x)&(df_merge.latitude==y), \"time\"], diff_direccion)\r\n",
    "        ax.set_title(\"Direccion - Lon: {:.1f} Lat: {:.1f}\".format(x, y), fontsize=9)\r\n",
    "        n_latlon+=1\r\n",
    "    elif n%3==1:\r\n",
    "        diff_periodo = df_merge.loc[(df_merge.longitude==x)&(df_merge.latitude==y), nombre_variables_NOAA[1]] \\\r\n",
    "            - df_merge.loc[(df_merge.longitude==x)&(df_merge.latitude==y), nombre_variables_Copernicus[1]]\r\n",
    "        ax.plot(df_merge.loc[(df_merge.longitude==x)&(df_merge.latitude==y), \"time\"], diff_periodo)\r\n",
    "        ax.set_title(\"Periodo - Lon: {:.1f} Lat: {:.1f}\".format(x, y), fontsize=9)\r\n",
    "    else:\r\n",
    "        (x, y) = latlon[n_latlon]\r\n",
    "        diff_altura = df_merge.loc[(df_merge.longitude==x)&(df_merge.latitude==y), nombre_variables_NOAA[0]] \\\r\n",
    "            - df_merge.loc[(df_merge.longitude==x)&(df_merge.latitude==y), nombre_variables_Copernicus[0]]\r\n",
    "        ax.plot(df_merge.loc[(df_merge.longitude==x)&(df_merge.latitude==y), \"time\"], diff_altura)\r\n",
    "        ax.set_title(\"Altura - Lon: {:.1f} Lat: {:.1f}\".format(x, y), fontsize=9)\r\n",
    "    n+=1\r\n",
    "    ax.tick_params(\"both\", labelsize=8)"
   ],
   "outputs": [],
   "metadata": {}
  }
 ],
 "metadata": {
  "colab": {
   "authorship_tag": "ABX9TyNjH1/tUyQwl6nY5ZX595My",
   "collapsed_sections": [],
   "mount_file_id": "1tPWAJr50TfR4X4By1At0r8dzSgxTHqpS",
   "name": "memoria01_Descargas.ipynb",
   "provenance": []
  },
  "interpreter": {
   "hash": "0402dabae8b23d8b5afb1fd4b5b951a10d759731325203b513c39037a8670cc8"
  },
  "kernelspec": {
   "name": "python3",
   "display_name": "Python 3.8.10 64-bit ('personal': conda)"
  },
  "language_info": {
   "codemirror_mode": {
    "name": "ipython",
    "version": 3
   },
   "file_extension": ".py",
   "mimetype": "text/x-python",
   "name": "python",
   "nbconvert_exporter": "python",
   "pygments_lexer": "ipython3",
   "version": "3.8.10"
  }
 },
 "nbformat": 4,
 "nbformat_minor": 4
}